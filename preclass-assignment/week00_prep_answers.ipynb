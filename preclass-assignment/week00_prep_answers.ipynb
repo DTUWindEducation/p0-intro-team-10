{
 "cells": [
  {
   "cell_type": "code",
   "execution_count": 2,
   "metadata": {},
   "outputs": [
    {
     "name": "stdout",
     "output_type": "stream",
     "text": [
      "Hello Alice\n"
     ]
    }
   ],
   "source": [
    "# 1. Write a simple function\n",
    "def greet(name): #definition of greet-function\n",
    "    #\"\"\"Prints a greeting message with name provided\"\"\" #docstring\n",
    "    print(f\"Hello {name}\")\n",
    "\n",
    "greet(\"Alice\") #call function"
   ]
  },
  {
   "cell_type": "code",
   "execution_count": 10,
   "metadata": {},
   "outputs": [
    {
     "name": "stdout",
     "output_type": "stream",
     "text": [
      "Too small!\n"
     ]
    }
   ],
   "source": [
    "# 2. If/else statements\n",
    "def goldilocks(bed_length): #define goldilocks-function\n",
    "    if bed_length < 140: #if under 140 cm\n",
    "        print(\"Too small!\") \n",
    "    elif bed_length > 150: #if over 150 cm\n",
    "        print(\"Too large!\") \n",
    "    else:   #else the size is correct\n",
    "        print(\"Just right. :)\")\n",
    "\n",
    "goldilocks(139) #call function"
   ]
  },
  {
   "cell_type": "code",
   "execution_count": 25,
   "metadata": {},
   "outputs": [
    {
     "data": {
      "text/plain": [
       "[1, 4, 9]"
      ]
     },
     "execution_count": 25,
     "metadata": {},
     "output_type": "execute_result"
    }
   ],
   "source": [
    "# 3. For loops\n",
    "        # Quick solution\n",
    "        #import numpy as np\n",
    "        #def square_list(x):\n",
    "        #    x = np.array(x) # Makes x an array\n",
    "        #    y = x**2\n",
    "        #    return y\n",
    "# Solution using foor loops\n",
    "def square_list(x): #define square_list - function\n",
    "    \"\"\"Function of squared values in list\"\"\"  #docstring\n",
    "    output = [None] *len(x) #make an initial list of 0, with the length of x\n",
    "    for i, k in enumerate(x): # i is the place in the list where we are (so 1st value in list). k is the actual value \n",
    "        output[i] = k**2 #save in place i, the value of k**2\n",
    "    return output #return to line\n",
    "\n",
    "x = [1, 2, 3]\n",
    "\n",
    "square_list(x)"
   ]
  },
  {
   "cell_type": "code",
   "execution_count": 51,
   "metadata": {},
   "outputs": [
    {
     "name": "stdout",
     "output_type": "stream",
     "text": [
      "[1, 1, 2, 3, 5, 8, 13, 21]\n"
     ]
    }
   ],
   "source": [
    "# 4. While loops\n",
    "def fibonacci_stop(x_max):\n",
    "    x1, x2 = 0, 1 # starting guess\n",
    "    output = [None] * (x_max + 1)  # Preallocate a sufficiently large list\n",
    "    i = 0 # Initial index value\n",
    "    while x2 <= x_max:\n",
    "        output[i] = x2 # Print out first (0) value in list (defined as 1 above)\n",
    "        x = x1 + x2 #sum the two previous values\n",
    "        x1 = x2 #redefine so we move one step forward\n",
    "        x2 = x #redefine\n",
    "        i += 1 #step of index is increased\n",
    "    return output[:i] #return to output\n",
    "\n",
    "x_max = 30  # the upper allowable value for x being 30\n",
    "\n",
    "fibonacci_numbers = fibonacci_stop(30) #numbers in fibonacci list\n",
    "print(fibonacci_numbers)"
   ]
  },
  {
   "cell_type": "code",
   "execution_count": 85,
   "metadata": {},
   "outputs": [
    {
     "name": "stdout",
     "output_type": "stream",
     "text": [
      "[-999, 2, 6, -999]\n"
     ]
    }
   ],
   "source": [
    "# 5. Logical operators\n",
    "def clean_pitch(x, status):         # define function that takes two lists: x and status\n",
    "    output = [None] * len(x)        # define the lengt of list of output being tha same length as x list \n",
    "    for i, k in enumerate(x):       # for i place in list of x\n",
    "        # x - values\n",
    "        if k > 90:                  # if k is above 90 \n",
    "            k = -999                #then error\n",
    "        elif k < 0:                 # if k is under 0\n",
    "            k = -999                #then error\n",
    "        # status - list\n",
    "        elif status[i] == 1:        # if the value in place i is 1\n",
    "            k = -999                #then define the k value as error\n",
    "        elif status[i] == 0:        # if the value in place i is 0\n",
    "            k = k                   #then define the k value as unchanged\n",
    "        output[i] = k               # put found value in list\n",
    "    return output                   # return to output\n",
    "\n",
    "x = [-1, 2, 6, 95]                  # define x-list\n",
    "status = [1, 0, 0, 0]               #define status-list\n",
    "\n",
    "output_list = clean_pitch(x , status)# recall function\n",
    "print(output_list)                  # print out result"
   ]
  },
  {
   "cell_type": "markdown",
   "metadata": {},
   "source": [
    "Question: What is the shoutcut for out comment multiple marked lines?\n",
    "\n",
    "Question: How can I write multiple conditions inside the the same if-statement?\n",
    "\n",
    "Question: How I can do the code in a .py file, and where do I test the written code? (What to write in the terminal)"
   ]
  }
 ],
 "metadata": {
  "kernelspec": {
   "display_name": "base",
   "language": "python",
   "name": "python3"
  },
  "language_info": {
   "codemirror_mode": {
    "name": "ipython",
    "version": 3
   },
   "file_extension": ".py",
   "mimetype": "text/x-python",
   "name": "python",
   "nbconvert_exporter": "python",
   "pygments_lexer": "ipython3",
   "version": "3.11.11"
  }
 },
 "nbformat": 4,
 "nbformat_minor": 2
}
